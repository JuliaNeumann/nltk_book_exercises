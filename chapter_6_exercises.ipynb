{
 "cells": [
  {
   "cell_type": "markdown",
   "metadata": {
    "deletable": true,
    "editable": true
   },
   "source": [
    "__Exercise 1__"
   ]
  },
  {
   "cell_type": "code",
   "execution_count": 1,
   "metadata": {
    "collapsed": true,
    "deletable": true,
    "editable": true,
    "scrolled": true
   },
   "outputs": [],
   "source": [
    "# MACHINE TRANSLATION:\n",
    "# see e.g. http://www.aclweb.org/anthology/R11-1077, https://nlp.stanford.edu/courses/cs224n/2010/reports/bipins.pdf\n",
    "# data: parallel corpora, aligned at sentence level (automatically or manually)\n",
    "# size: usually assumed the larger the better, 2nd paper: 100,00 documents\n",
    "# reasons for large amount: probability that a word or combination of words has been seen during training increases"
   ]
  },
  {
   "cell_type": "markdown",
   "metadata": {
    "deletable": true,
    "editable": true
   },
   "source": [
    "__Exercise 2__"
   ]
  },
  {
   "cell_type": "code",
   "execution_count": 2,
   "metadata": {
    "collapsed": false,
    "deletable": true,
    "editable": true
   },
   "outputs": [
    {
     "name": "stdout",
     "output_type": "stream",
     "text": [
      "0.786\n"
     ]
    }
   ],
   "source": [
    "import nltk\n",
    "from nltk.corpus import names\n",
    "import random\n",
    "names = ([(name, 'male') for name in names.words('male.txt')] + [(name, 'female') for name in names.words('female.txt')])\n",
    "random.shuffle(names)\n",
    "test, devtest, training = names[:500], names[500:1000], names[1000:]\n",
    "\n",
    "def gender_features1(name):\n",
    "    features = {}\n",
    "    features[\"firstletter\"] = name[0].lower()\n",
    "    features[\"lastletter\"] = name[-1].lower()\n",
    "    for letter in 'abcdefghijklmnopqrstuvwxyz':\n",
    "        features[\"count(%s)\" % letter] = name.lower().count(letter)\n",
    "        features[\"has(%s)\" % letter] = (letter in name.lower())\n",
    "    features[\"suffix2\"] = name[-2:].lower()\n",
    "    return features\n",
    "\n",
    "train_set = [(gender_features1(n), g) for (n,g) in training]\n",
    "devtest_set = [(gender_features1(n), g) for (n,g) in devtest]\n",
    "classifier = nltk.NaiveBayesClassifier.train(train_set)\n",
    "print nltk.classify.accuracy(classifier, devtest_set)"
   ]
  },
  {
   "cell_type": "code",
   "execution_count": 3,
   "metadata": {
    "collapsed": false,
    "deletable": true,
    "editable": true
   },
   "outputs": [
    {
     "name": "stdout",
     "output_type": "stream",
     "text": [
      "no. of errors:  107\n",
      "correct=female   guess=male     name=Alison                        \n",
      "correct=female   guess=male     name=Aubry                         \n",
      "correct=female   guess=male     name=Beilul                        \n",
      "correct=female   guess=male     name=Bell                          \n",
      "correct=female   guess=male     name=Beret                         \n",
      "correct=female   guess=male     name=Bess                          \n",
      "correct=female   guess=male     name=Betsey                        \n",
      "correct=female   guess=male     name=Bidget                        \n",
      "correct=female   guess=male     name=Brear                         \n",
      "correct=female   guess=male     name=Cherry                        \n",
      "correct=female   guess=male     name=Christen                      \n",
      "correct=female   guess=male     name=Christian                     \n",
      "correct=female   guess=male     name=Cody                          \n",
      "correct=female   guess=male     name=Con                           \n",
      "correct=female   guess=male     name=Deerdre                       \n",
      "correct=female   guess=male     name=Demetris                      \n",
      "correct=female   guess=male     name=Dorry                         \n",
      "correct=female   guess=male     name=Elsbeth                       \n",
      "correct=female   guess=male     name=Em                            \n",
      "correct=female   guess=male     name=Emmy                          \n",
      "correct=female   guess=male     name=Esme                          \n",
      "correct=female   guess=male     name=Estell                        \n",
      "correct=female   guess=male     name=Ethyl                         \n",
      "correct=female   guess=male     name=Florence                      \n",
      "correct=female   guess=male     name=Friederike                    \n",
      "correct=female   guess=male     name=Gabriell                      \n",
      "correct=female   guess=male     name=Gunvor                        \n",
      "correct=female   guess=male     name=Gwennie                       \n",
      "correct=female   guess=male     name=Gwyneth                       \n",
      "correct=female   guess=male     name=Harmony                       \n",
      "correct=female   guess=male     name=Hester                        \n",
      "correct=female   guess=male     name=Hope                          \n",
      "correct=female   guess=male     name=Janifer                       \n",
      "correct=female   guess=male     name=Janot                         \n",
      "correct=female   guess=male     name=Jody                          \n",
      "correct=female   guess=male     name=Judith                        \n",
      "correct=female   guess=male     name=Kim                           \n",
      "correct=female   guess=male     name=Kore                          \n",
      "correct=female   guess=male     name=Margery                       \n",
      "correct=female   guess=male     name=Margret                       \n",
      "correct=female   guess=male     name=Marion                        \n",
      "correct=female   guess=male     name=Marry                         \n",
      "correct=female   guess=male     name=Meg                           \n",
      "correct=female   guess=male     name=Meggan                        \n",
      "correct=female   guess=male     name=Mercy                         \n",
      "correct=female   guess=male     name=Olympe                        \n",
      "correct=female   guess=male     name=Patsy                         \n",
      "correct=female   guess=male     name=Philis                        \n",
      "correct=female   guess=male     name=Philly                        \n",
      "correct=female   guess=male     name=Pier                          \n",
      "correct=female   guess=male     name=Raquel                        \n",
      "correct=female   guess=male     name=Roseann                       \n",
      "correct=female   guess=male     name=Sapphire                      \n",
      "correct=female   guess=male     name=Scarlet                       \n",
      "correct=female   guess=male     name=Shannon                       \n",
      "correct=female   guess=male     name=Sharyl                        \n",
      "correct=female   guess=male     name=Solange                       \n",
      "correct=female   guess=male     name=Sophey                        \n",
      "correct=female   guess=male     name=Van                           \n",
      "correct=female   guess=male     name=Wendy                         \n",
      "correct=female   guess=male     name=Wilone                        \n",
      "correct=female   guess=male     name=Winnah                        \n",
      "correct=male     guess=female   name=Abby                          \n",
      "correct=male     guess=female   name=Allan                         \n",
      "correct=male     guess=female   name=Arnie                         \n",
      "correct=male     guess=female   name=Bailey                        \n",
      "correct=male     guess=female   name=Baily                         \n",
      "correct=male     guess=female   name=Benjy                         \n",
      "correct=male     guess=female   name=Bubba                         \n",
      "correct=male     guess=female   name=Charlie                       \n",
      "correct=male     guess=female   name=Dwane                         \n",
      "correct=male     guess=female   name=Elisha                        \n",
      "correct=male     guess=female   name=Emanuel                       \n",
      "correct=male     guess=female   name=Fonsie                        \n",
      "correct=male     guess=female   name=Franklyn                      \n",
      "correct=male     guess=female   name=Hannibal                      \n",
      "correct=male     guess=female   name=Jeramie                       \n",
      "correct=male     guess=female   name=Jere                          \n",
      "correct=male     guess=female   name=Jermayne                      \n",
      "correct=male     guess=female   name=Jerrie                        \n",
      "correct=male     guess=female   name=Jimmie                        \n",
      "correct=male     guess=female   name=Jude                          \n",
      "correct=male     guess=female   name=Kevin                         \n",
      "correct=male     guess=female   name=Kyle                          \n",
      "correct=male     guess=female   name=Lawrence                      \n",
      "correct=male     guess=female   name=Lazare                        \n",
      "correct=male     guess=female   name=Lin                           \n",
      "correct=male     guess=female   name=Lonnie                        \n",
      "correct=male     guess=female   name=Michele                       \n",
      "correct=male     guess=female   name=Micky                         \n",
      "correct=male     guess=female   name=Moishe                        \n",
      "correct=male     guess=female   name=Neil                          \n",
      "correct=male     guess=female   name=Noble                         \n",
      "correct=male     guess=female   name=Odie                          \n",
      "correct=male     guess=female   name=Prentice                      \n",
      "correct=male     guess=female   name=Reza                          \n",
      "correct=male     guess=female   name=Ricki                         \n",
      "correct=male     guess=female   name=Ronnie                        \n",
      "correct=male     guess=female   name=Samuele                       \n",
      "correct=male     guess=female   name=Sly                           \n",
      "correct=male     guess=female   name=Sydney                        \n",
      "correct=male     guess=female   name=Tann                          \n",
      "correct=male     guess=female   name=Terence                       \n",
      "correct=male     guess=female   name=Uli                           \n",
      "correct=male     guess=female   name=Vail                          \n",
      "correct=male     guess=female   name=Val                           \n",
      "correct=male     guess=female   name=Vasili                        \n"
     ]
    }
   ],
   "source": [
    "def error_analysis(gender_features):\n",
    "    errors = []\n",
    "    for (name, tag) in devtest:\n",
    "        guess = classifier.classify(gender_features(name))\n",
    "        if guess != tag:\n",
    "            errors.append((tag, guess, name))\n",
    "    print 'no. of errors: ', len(errors)        \n",
    "        \n",
    "    for (tag, guess, name) in sorted(errors): # doctest: +ELLIPSIS +NORMALIZE_WHITESPACE\n",
    "        print 'correct=%-8s guess=%-8s name=%-30s' % (tag, guess, name)        \n",
    "        \n",
    "error_analysis(gender_features1)        "
   ]
  },
  {
   "cell_type": "code",
   "execution_count": 4,
   "metadata": {
    "collapsed": false,
    "deletable": true,
    "editable": true
   },
   "outputs": [
    {
     "name": "stdout",
     "output_type": "stream",
     "text": [
      "0.792\n"
     ]
    }
   ],
   "source": [
    "def gender_features2(name):\n",
    "    features = {}\n",
    "    features[\"firstletter\"] = name[0].lower()\n",
    "    features[\"lastletter\"] = name[-1].lower()\n",
    "    for letter in 'abcdefghijklmnopqrstuvwxyz':\n",
    "        features[\"count(%s)\" % letter] = name.lower().count(letter)\n",
    "        features[\"has(%s)\" % letter] = (letter in name.lower())\n",
    "    features[\"suffix2\"] = name[-2:].lower()\n",
    "    features[\"suffix3\"] = name[-3:].lower()\n",
    "    return features\n",
    "\n",
    "train_set = [(gender_features2(n), g) for (n,g) in training]\n",
    "devtest_set = [(gender_features2(n), g) for (n,g) in devtest]\n",
    "classifier = nltk.NaiveBayesClassifier.train(train_set)\n",
    "print nltk.classify.accuracy(classifier, devtest_set)"
   ]
  },
  {
   "cell_type": "code",
   "execution_count": 5,
   "metadata": {
    "collapsed": false,
    "deletable": true,
    "editable": true
   },
   "outputs": [
    {
     "name": "stdout",
     "output_type": "stream",
     "text": [
      "no. of errors:  104\n",
      "correct=female   guess=male     name=Alison                        \n",
      "correct=female   guess=male     name=Aubry                         \n",
      "correct=female   guess=male     name=Beilul                        \n",
      "correct=female   guess=male     name=Bell                          \n",
      "correct=female   guess=male     name=Beret                         \n",
      "correct=female   guess=male     name=Bess                          \n",
      "correct=female   guess=male     name=Betsey                        \n",
      "correct=female   guess=male     name=Bidget                        \n",
      "correct=female   guess=male     name=Brear                         \n",
      "correct=female   guess=male     name=Cal                           \n",
      "correct=female   guess=male     name=Cherry                        \n",
      "correct=female   guess=male     name=Christen                      \n",
      "correct=female   guess=male     name=Christian                     \n",
      "correct=female   guess=male     name=Cody                          \n",
      "correct=female   guess=male     name=Con                           \n",
      "correct=female   guess=male     name=Demetris                      \n",
      "correct=female   guess=male     name=Dorry                         \n",
      "correct=female   guess=male     name=Ealasaid                      \n",
      "correct=female   guess=male     name=Elsbeth                       \n",
      "correct=female   guess=male     name=Em                            \n",
      "correct=female   guess=male     name=Emmy                          \n",
      "correct=female   guess=male     name=Esme                          \n",
      "correct=female   guess=male     name=Estell                        \n",
      "correct=female   guess=male     name=Ethyl                         \n",
      "correct=female   guess=male     name=Florence                      \n",
      "correct=female   guess=male     name=France                        \n",
      "correct=female   guess=male     name=Friederike                    \n",
      "correct=female   guess=male     name=Gabriell                      \n",
      "correct=female   guess=male     name=Gillan                        \n",
      "correct=female   guess=male     name=Gunvor                        \n",
      "correct=female   guess=male     name=Gwyneth                       \n",
      "correct=female   guess=male     name=Harmony                       \n",
      "correct=female   guess=male     name=Hester                        \n",
      "correct=female   guess=male     name=Hope                          \n",
      "correct=female   guess=male     name=Janifer                       \n",
      "correct=female   guess=male     name=Janot                         \n",
      "correct=female   guess=male     name=Jody                          \n",
      "correct=female   guess=male     name=Judith                        \n",
      "correct=female   guess=male     name=Kim                           \n",
      "correct=female   guess=male     name=Margery                       \n",
      "correct=female   guess=male     name=Margret                       \n",
      "correct=female   guess=male     name=Marion                        \n",
      "correct=female   guess=male     name=Marry                         \n",
      "correct=female   guess=male     name=Meg                           \n",
      "correct=female   guess=male     name=Meggan                        \n",
      "correct=female   guess=male     name=Mercy                         \n",
      "correct=female   guess=male     name=Murial                        \n",
      "correct=female   guess=male     name=Olympe                        \n",
      "correct=female   guess=male     name=Patsy                         \n",
      "correct=female   guess=male     name=Paule                         \n",
      "correct=female   guess=male     name=Philis                        \n",
      "correct=female   guess=male     name=Pier                          \n",
      "correct=female   guess=male     name=Raquel                        \n",
      "correct=female   guess=male     name=Sal                           \n",
      "correct=female   guess=male     name=Scarlet                       \n",
      "correct=female   guess=male     name=Shannon                       \n",
      "correct=female   guess=male     name=Sharyl                        \n",
      "correct=female   guess=male     name=Sophey                        \n",
      "correct=female   guess=male     name=Van                           \n",
      "correct=female   guess=male     name=Wendy                         \n",
      "correct=female   guess=male     name=Wilone                        \n",
      "correct=female   guess=male     name=Winnah                        \n",
      "correct=male     guess=female   name=Abby                          \n",
      "correct=male     guess=female   name=Allan                         \n",
      "correct=male     guess=female   name=Arnie                         \n",
      "correct=male     guess=female   name=Bailey                        \n",
      "correct=male     guess=female   name=Baily                         \n",
      "correct=male     guess=female   name=Benjy                         \n",
      "correct=male     guess=female   name=Bubba                         \n",
      "correct=male     guess=female   name=Carroll                       \n",
      "correct=male     guess=female   name=Charlie                       \n",
      "correct=male     guess=female   name=Dwane                         \n",
      "correct=male     guess=female   name=Elisha                        \n",
      "correct=male     guess=female   name=Fonsie                        \n",
      "correct=male     guess=female   name=Franklyn                      \n",
      "correct=male     guess=female   name=Hannibal                      \n",
      "correct=male     guess=female   name=Herrmann                      \n",
      "correct=male     guess=female   name=Jeramie                       \n",
      "correct=male     guess=female   name=Jere                          \n",
      "correct=male     guess=female   name=Jermayne                      \n",
      "correct=male     guess=female   name=Jerrie                        \n",
      "correct=male     guess=female   name=Jimmie                        \n",
      "correct=male     guess=female   name=Jude                          \n",
      "correct=male     guess=female   name=Kyle                          \n",
      "correct=male     guess=female   name=Lazare                        \n",
      "correct=male     guess=female   name=Lin                           \n",
      "correct=male     guess=female   name=Lonnie                        \n",
      "correct=male     guess=female   name=Michele                       \n",
      "correct=male     guess=female   name=Micky                         \n",
      "correct=male     guess=female   name=Neil                          \n",
      "correct=male     guess=female   name=Noble                         \n",
      "correct=male     guess=female   name=Odie                          \n",
      "correct=male     guess=female   name=Penny                         \n",
      "correct=male     guess=female   name=Prentice                      \n",
      "correct=male     guess=female   name=Reza                          \n",
      "correct=male     guess=female   name=Ricki                         \n",
      "correct=male     guess=female   name=Ronnie                        \n",
      "correct=male     guess=female   name=Samuele                       \n",
      "correct=male     guess=female   name=Sydney                        \n",
      "correct=male     guess=female   name=Tann                          \n",
      "correct=male     guess=female   name=Tobie                         \n",
      "correct=male     guess=female   name=Uli                           \n",
      "correct=male     guess=female   name=Vail                          \n",
      "correct=male     guess=female   name=Vasili                        \n"
     ]
    }
   ],
   "source": [
    "error_analysis(gender_features2)"
   ]
  },
  {
   "cell_type": "code",
   "execution_count": 6,
   "metadata": {
    "collapsed": false,
    "deletable": true,
    "editable": true
   },
   "outputs": [
    {
     "name": "stdout",
     "output_type": "stream",
     "text": [
      "0.8\n"
     ]
    }
   ],
   "source": [
    "def gender_features3(name):\n",
    "    features = {}\n",
    "    features[\"firstletter\"] = name[0].lower()\n",
    "    features[\"lastletter\"] = name[-1].lower()\n",
    "    for letter in 'abcdefghijklmnopqrstuvwxyz':\n",
    "        features[\"count(%s)\" % letter] = name.lower().count(letter)\n",
    "        features[\"has(%s)\" % letter] = (letter in name.lower())\n",
    "    features[\"suffix2\"] = name[-2:].lower()\n",
    "    features[\"suffix3\"] = name[-3:].lower()\n",
    "    features[\"prefix3\"] = name[:3].lower()\n",
    "    return features\n",
    "\n",
    "train_set = [(gender_features3(n), g) for (n,g) in training]\n",
    "devtest_set = [(gender_features3(n), g) for (n,g) in devtest]\n",
    "classifier = nltk.NaiveBayesClassifier.train(train_set)\n",
    "print nltk.classify.accuracy(classifier, devtest_set)"
   ]
  },
  {
   "cell_type": "code",
   "execution_count": 7,
   "metadata": {
    "collapsed": false,
    "deletable": true,
    "editable": true
   },
   "outputs": [
    {
     "name": "stdout",
     "output_type": "stream",
     "text": [
      "no. of errors:  100\n",
      "correct=female   guess=male     name=Alison                        \n",
      "correct=female   guess=male     name=Aubry                         \n",
      "correct=female   guess=male     name=Beilul                        \n",
      "correct=female   guess=male     name=Bell                          \n",
      "correct=female   guess=male     name=Beret                         \n",
      "correct=female   guess=male     name=Bess                          \n",
      "correct=female   guess=male     name=Bidget                        \n",
      "correct=female   guess=male     name=Brear                         \n",
      "correct=female   guess=male     name=Caitrin                       \n",
      "correct=female   guess=male     name=Cal                           \n",
      "correct=female   guess=male     name=Cherry                        \n",
      "correct=female   guess=male     name=Christen                      \n",
      "correct=female   guess=male     name=Christian                     \n",
      "correct=female   guess=male     name=Cody                          \n",
      "correct=female   guess=male     name=Con                           \n",
      "correct=female   guess=male     name=Demetris                      \n",
      "correct=female   guess=male     name=Dorry                         \n",
      "correct=female   guess=male     name=Ealasaid                      \n",
      "correct=female   guess=male     name=Em                            \n",
      "correct=female   guess=male     name=Emmy                          \n",
      "correct=female   guess=male     name=Esme                          \n",
      "correct=female   guess=male     name=Ethyl                         \n",
      "correct=female   guess=male     name=France                        \n",
      "correct=female   guess=male     name=Friederike                    \n",
      "correct=female   guess=male     name=Gabriell                      \n",
      "correct=female   guess=male     name=Gillan                        \n",
      "correct=female   guess=male     name=Gunvor                        \n",
      "correct=female   guess=male     name=Gwyneth                       \n",
      "correct=female   guess=male     name=Harmony                       \n",
      "correct=female   guess=male     name=Hester                        \n",
      "correct=female   guess=male     name=Hope                          \n",
      "correct=female   guess=male     name=Janifer                       \n",
      "correct=female   guess=male     name=Janot                         \n",
      "correct=female   guess=male     name=Jody                          \n",
      "correct=female   guess=male     name=Judith                        \n",
      "correct=female   guess=male     name=Kim                           \n",
      "correct=female   guess=male     name=Margery                       \n",
      "correct=female   guess=male     name=Margret                       \n",
      "correct=female   guess=male     name=Marion                        \n",
      "correct=female   guess=male     name=Meg                           \n",
      "correct=female   guess=male     name=Mercy                         \n",
      "correct=female   guess=male     name=Murial                        \n",
      "correct=female   guess=male     name=Nicol                         \n",
      "correct=female   guess=male     name=Olympe                        \n",
      "correct=female   guess=male     name=Patsy                         \n",
      "correct=female   guess=male     name=Paule                         \n",
      "correct=female   guess=male     name=Philis                        \n",
      "correct=female   guess=male     name=Philly                        \n",
      "correct=female   guess=male     name=Pier                          \n",
      "correct=female   guess=male     name=Raquel                        \n",
      "correct=female   guess=male     name=Sal                           \n",
      "correct=female   guess=male     name=Scarlet                       \n",
      "correct=female   guess=male     name=Shannon                       \n",
      "correct=female   guess=male     name=Solange                       \n",
      "correct=female   guess=male     name=Sophey                        \n",
      "correct=female   guess=male     name=Van                           \n",
      "correct=female   guess=male     name=Wendy                         \n",
      "correct=female   guess=male     name=Wilone                        \n",
      "correct=female   guess=male     name=Winnah                        \n",
      "correct=male     guess=female   name=Abby                          \n",
      "correct=male     guess=female   name=Allan                         \n",
      "correct=male     guess=female   name=Arnie                         \n",
      "correct=male     guess=female   name=Baily                         \n",
      "correct=male     guess=female   name=Bubba                         \n",
      "correct=male     guess=female   name=Carroll                       \n",
      "correct=male     guess=female   name=Charlie                       \n",
      "correct=male     guess=female   name=Dory                          \n",
      "correct=male     guess=female   name=Elisha                        \n",
      "correct=male     guess=female   name=Esteban                       \n",
      "correct=male     guess=female   name=Florian                       \n",
      "correct=male     guess=female   name=Fonsie                        \n",
      "correct=male     guess=female   name=Franklyn                      \n",
      "correct=male     guess=female   name=Hannibal                      \n",
      "correct=male     guess=female   name=Herrmann                      \n",
      "correct=male     guess=female   name=Jeramie                       \n",
      "correct=male     guess=female   name=Jere                          \n",
      "correct=male     guess=female   name=Jermayne                      \n",
      "correct=male     guess=female   name=Jerrie                        \n",
      "correct=male     guess=female   name=Jimmie                        \n",
      "correct=male     guess=female   name=Jo                            \n",
      "correct=male     guess=female   name=Jude                          \n",
      "correct=male     guess=female   name=Kyle                          \n",
      "correct=male     guess=female   name=Lin                           \n",
      "correct=male     guess=female   name=Lonnie                        \n",
      "correct=male     guess=female   name=Michele                       \n",
      "correct=male     guess=female   name=Micky                         \n",
      "correct=male     guess=female   name=Neil                          \n",
      "correct=male     guess=female   name=Noble                         \n",
      "correct=male     guess=female   name=Noe                           \n",
      "correct=male     guess=female   name=Odie                          \n",
      "correct=male     guess=female   name=Prince                        \n",
      "correct=male     guess=female   name=Reza                          \n",
      "correct=male     guess=female   name=Ricki                         \n",
      "correct=male     guess=female   name=Ronnie                        \n",
      "correct=male     guess=female   name=Samuele                       \n",
      "correct=male     guess=female   name=Sydney                        \n",
      "correct=male     guess=female   name=Tann                          \n",
      "correct=male     guess=female   name=Uli                           \n",
      "correct=male     guess=female   name=Val                           \n",
      "correct=male     guess=female   name=Vasili                        \n"
     ]
    }
   ],
   "source": [
    "error_analysis(gender_features3)"
   ]
  },
  {
   "cell_type": "code",
   "execution_count": 8,
   "metadata": {
    "collapsed": false,
    "deletable": true,
    "editable": true
   },
   "outputs": [
    {
     "name": "stdout",
     "output_type": "stream",
     "text": [
      "0.802\n"
     ]
    }
   ],
   "source": [
    "def gender_features4(name):\n",
    "    features = {}\n",
    "    features[\"firstletter\"] = name[0].lower()\n",
    "    features[\"lastletter\"] = name[-1].lower()\n",
    "    for letter in 'abcdefghijklmnopqrstuvwxyz':\n",
    "        features[\"count(%s)\" % letter] = name.lower().count(letter)\n",
    "        features[\"has(%s)\" % letter] = (letter in name.lower())\n",
    "    features[\"suffix2\"] = name[-2:].lower()\n",
    "    features[\"suffix3\"] = name[-3:].lower()\n",
    "    features[\"prefix3\"] = name[:3].lower()\n",
    "    features[\"num_vowels\"] = len([letter for letter in name if letter in 'aeiouy'])\n",
    "    return features\n",
    "\n",
    "train_set = [(gender_features4(n), g) for (n,g) in training]\n",
    "devtest_set = [(gender_features4(n), g) for (n,g) in devtest]\n",
    "classifier = nltk.NaiveBayesClassifier.train(train_set)\n",
    "print nltk.classify.accuracy(classifier, devtest_set)"
   ]
  },
  {
   "cell_type": "code",
   "execution_count": 9,
   "metadata": {
    "collapsed": false,
    "deletable": true,
    "editable": true
   },
   "outputs": [
    {
     "name": "stdout",
     "output_type": "stream",
     "text": [
      "0.82\n"
     ]
    }
   ],
   "source": [
    "# final performance test:\n",
    "test_set = [(gender_features4(n), g) for (n,g) in test]\n",
    "print nltk.classify.accuracy(classifier, test_set)"
   ]
  },
  {
   "cell_type": "code",
   "execution_count": 10,
   "metadata": {
    "collapsed": true,
    "deletable": true,
    "editable": true
   },
   "outputs": [],
   "source": [
    "# performance slightly worse than in dev-test -> features reflect some idiosyncracies of dev-test"
   ]
  },
  {
   "cell_type": "markdown",
   "metadata": {
    "deletable": true,
    "editable": true
   },
   "source": [
    "__Exercise 3)__"
   ]
  },
  {
   "cell_type": "code",
   "execution_count": 11,
   "metadata": {
    "collapsed": true,
    "deletable": true,
    "editable": true
   },
   "outputs": [],
   "source": [
    "from nltk.corpus import senseval\n",
    "instances = senseval.instances('serve.pos')\n",
    "size = int(len(instances) * 0.1)\n",
    "training, test = instances[size:], instances[:size]"
   ]
  },
  {
   "cell_type": "code",
   "execution_count": 12,
   "metadata": {
    "collapsed": false,
    "deletable": true,
    "editable": true
   },
   "outputs": [
    {
     "data": {
      "text/plain": [
       "SensevalInstance(word=u'serve-v', position=11, context=[('oh', 'UH'), (',', ','), ('that', 'DT'), (\"'s\", 'VBZ'), ('no', 'DT'), ('good', 'NN'), ('.', '.'), ('that', 'DT'), (\"'s\", 'VBZ'), ('where', 'WRB'), ('they', 'PRP'), ('serve', 'VB'), ('cardboard', 'NN'), ('instead', 'RB'), ('of', 'IN'), ('meat', 'NN'), ('.', '.')], senses=('SERVE10',))"
      ]
     },
     "execution_count": 12,
     "metadata": {},
     "output_type": "execute_result"
    }
   ],
   "source": [
    "training[0]"
   ]
  },
  {
   "cell_type": "code",
   "execution_count": 13,
   "metadata": {
    "collapsed": false,
    "deletable": true,
    "editable": true
   },
   "outputs": [
    {
     "name": "stdout",
     "output_type": "stream",
     "text": [
      "0.807780320366\n"
     ]
    }
   ],
   "source": [
    "def sense_features(instance):\n",
    "    features = {}\n",
    "    features[\"word-type\"] = instance.word\n",
    "    features[\"word-tag\"] = instance.context[instance.position][1] \n",
    "    features[\"prev-word\"] = instance.context[instance.position-1][0]\n",
    "    features[\"prev-word-tag\"] = instance.context[instance.position-1][1]\n",
    "    features[\"next-word\"] = instance.context[instance.position+1][0]\n",
    "    features[\"next-word-tag\"] = instance.context[instance.position+1][1]\n",
    "    return features\n",
    "\n",
    "train_set = [(sense_features(instance), instance.senses) for instance in training]\n",
    "test_set = [(sense_features(instance), instance.senses) for instance in test]\n",
    "classifier = nltk.NaiveBayesClassifier.train(train_set)\n",
    "print nltk.classify.accuracy(classifier, test_set)"
   ]
  },
  {
   "cell_type": "markdown",
   "metadata": {
    "deletable": true,
    "editable": true
   },
   "source": [
    "__Exercise 4)__"
   ]
  },
  {
   "cell_type": "code",
   "execution_count": 14,
   "metadata": {
    "collapsed": false,
    "deletable": true,
    "editable": true
   },
   "outputs": [
    {
     "name": "stdout",
     "output_type": "stream",
     "text": [
      "0.77\n",
      "Most Informative Features\n",
      "        contains(doubts) = True              pos : neg    =      9.8 : 1.0\n",
      "          contains(sans) = True              neg : pos    =      8.8 : 1.0\n",
      "          contains(hugo) = True              pos : neg    =      7.8 : 1.0\n",
      "  contains(effortlessly) = True              pos : neg    =      7.5 : 1.0\n",
      "     contains(dismissed) = True              pos : neg    =      7.1 : 1.0\n",
      "    contains(mediocrity) = True              neg : pos    =      6.9 : 1.0\n",
      "   contains(overwhelmed) = True              pos : neg    =      6.4 : 1.0\n",
      "        contains(fabric) = True              pos : neg    =      6.4 : 1.0\n",
      "         contains(wires) = True              neg : pos    =      6.2 : 1.0\n",
      "          contains(wits) = True              pos : neg    =      5.8 : 1.0\n",
      "       contains(topping) = True              pos : neg    =      5.8 : 1.0\n",
      "           contains(ugh) = True              neg : pos    =      5.7 : 1.0\n",
      "     contains(uplifting) = True              pos : neg    =      5.7 : 1.0\n",
      "   contains(bruckheimer) = True              neg : pos    =      5.6 : 1.0\n",
      "        contains(bounce) = True              neg : pos    =      5.6 : 1.0\n",
      "          contains(lang) = True              pos : neg    =      5.1 : 1.0\n",
      "   contains(understands) = True              pos : neg    =      4.5 : 1.0\n",
      "      contains(matheson) = True              pos : neg    =      4.4 : 1.0\n",
      "   contains(controversy) = True              pos : neg    =      4.3 : 1.0\n",
      "       contains(quicker) = True              neg : pos    =      4.3 : 1.0\n",
      "       contains(maxwell) = True              neg : pos    =      4.3 : 1.0\n",
      "         contains(locks) = True              neg : pos    =      4.3 : 1.0\n",
      "          contains(tsui) = True              neg : pos    =      4.3 : 1.0\n",
      "       contains(admired) = True              pos : neg    =      4.2 : 1.0\n",
      "    contains(cronenberg) = True              pos : neg    =      3.9 : 1.0\n",
      "    contains(derivative) = True              neg : pos    =      3.8 : 1.0\n",
      "      contains(attorney) = True              pos : neg    =      3.8 : 1.0\n",
      "   contains(existential) = True              pos : neg    =      3.7 : 1.0\n",
      "       contains(bandits) = True              pos : neg    =      3.7 : 1.0\n",
      "     contains(restoring) = True              pos : neg    =      3.7 : 1.0\n"
     ]
    }
   ],
   "source": [
    "from nltk.corpus import movie_reviews\n",
    "documents = [(list(movie_reviews.words(fileid)), category) for category in movie_reviews.categories() for fileid in movie_reviews.fileids(category)]\n",
    "random.shuffle(documents)\n",
    "\n",
    "all_words = nltk.FreqDist(w.lower() for w in movie_reviews.words())\n",
    "word_features = all_words.keys()[:2000]\n",
    "def document_features(document):\n",
    "    document_words = set(document)\n",
    "    features = {}\n",
    "    for word in word_features:\n",
    "        features['contains(%s)' % word] = (word in document_words)\n",
    "    return features\n",
    "\n",
    "featuresets = [(document_features(d), c) for (d,c) in documents]\n",
    "train_set, test_set = featuresets[100:], featuresets[:100]\n",
    "classifier = nltk.NaiveBayesClassifier.train(train_set)\n",
    "print nltk.classify.accuracy(classifier, test_set)\n",
    "classifier.show_most_informative_features(30)"
   ]
  },
  {
   "cell_type": "code",
   "execution_count": 15,
   "metadata": {
    "collapsed": true,
    "deletable": true,
    "editable": true
   },
   "outputs": [],
   "source": [
    "# most of them already indicate some judgment in themselves ('ugh', 'mediocrity') or belong to typical phrases that\n",
    "# indicate one direction of judgement ('understands' -> '... understands how to create atmosphere' or something like that)\n",
    "# some seem to be names of actors etc. which tend to be judged one direction or the other\n",
    "# surprising -> '33', 'wires'"
   ]
  },
  {
   "cell_type": "markdown",
   "metadata": {
    "deletable": true,
    "editable": true
   },
   "source": [
    "__Exercise 5)__"
   ]
  },
  {
   "cell_type": "code",
   "execution_count": null,
   "metadata": {
    "collapsed": true,
    "deletable": true,
    "editable": true
   },
   "outputs": [],
   "source": []
  }
 ],
 "metadata": {
  "kernelspec": {
   "display_name": "Python 2",
   "language": "python",
   "name": "python2"
  },
  "language_info": {
   "codemirror_mode": {
    "name": "ipython",
    "version": 2
   },
   "file_extension": ".py",
   "mimetype": "text/x-python",
   "name": "python",
   "nbconvert_exporter": "python",
   "pygments_lexer": "ipython2",
   "version": "2.7.12"
  }
 },
 "nbformat": 4,
 "nbformat_minor": 2
}
