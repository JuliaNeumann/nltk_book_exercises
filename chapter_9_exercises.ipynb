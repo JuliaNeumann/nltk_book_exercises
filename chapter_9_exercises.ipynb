{
 "cells": [
  {
   "cell_type": "markdown",
   "metadata": {
    "deletable": true,
    "editable": true
   },
   "source": [
    "__Exercise 1__"
   ]
  },
  {
   "cell_type": "code",
   "execution_count": 3,
   "metadata": {
    "collapsed": false,
    "deletable": true,
    "editable": true
   },
   "outputs": [
    {
     "name": "stdout",
     "output_type": "stream",
     "text": [
      "(S[]\n",
      "  (NP_SG_1[] (Pro_SG_1[] I))\n",
      "  (VP_SG_1[] (Cop_SG_1[] am) (Adj[] happy)))\n"
     ]
    }
   ],
   "source": [
    "import nltk, re, pprint\n",
    "from nltk import load_parser\n",
    "grammar8 = load_parser('file:chapter_9_ex1_a.fcfg')\n",
    "sent = \"I am happy\".split()\n",
    "trees = grammar8.parse(sent)\n",
    "for tree in trees:\n",
    "    print tree"
   ]
  },
  {
   "cell_type": "code",
   "execution_count": 2,
   "metadata": {
    "collapsed": false,
    "deletable": true,
    "editable": true
   },
   "outputs": [
    {
     "name": "stdout",
     "output_type": "stream",
     "text": [
      "(S[]\n",
      "  (NP_SG_3[] (Pro_SG_3[] she))\n",
      "  (VP_SG_3[] (Cop_SG_3[] is) (Adj[] happy)))\n"
     ]
    }
   ],
   "source": [
    "sent = \"she is happy\".split()\n",
    "trees = grammar8.parse(sent)\n",
    "for tree in trees:\n",
    "    print tree"
   ]
  },
  {
   "cell_type": "code",
   "execution_count": 3,
   "metadata": {
    "collapsed": true,
    "deletable": true,
    "editable": true
   },
   "outputs": [],
   "source": [
    "sent = \"you is happy\".split()\n",
    "trees = grammar8.parse(sent)\n",
    "for tree in trees:\n",
    "    print tree"
   ]
  },
  {
   "cell_type": "code",
   "execution_count": 4,
   "metadata": {
    "collapsed": false,
    "deletable": true,
    "editable": true
   },
   "outputs": [],
   "source": [
    "sent = \"they am happy\".split()\n",
    "trees = grammar8.parse(sent)\n",
    "for tree in trees:\n",
    "    print tree"
   ]
  },
  {
   "cell_type": "code",
   "execution_count": 4,
   "metadata": {
    "collapsed": false,
    "deletable": true,
    "editable": true
   },
   "outputs": [
    {
     "name": "stdout",
     "output_type": "stream",
     "text": [
      "(S[]\n",
      "  (NP[AGR=[NUM='sg', PER=1]] (Pro[AGR=[NUM='sg', PER=1]] I))\n",
      "  (VP[AGR=[NUM='sg', PER=1], TENSE='pres']\n",
      "    (Cop[AGR=[NUM='sg', PER=1], TENSE='pres'] am)\n",
      "    (Adj[] happy)))\n"
     ]
    }
   ],
   "source": [
    "grammar20 = load_parser('file:chapter_9_ex1_b.fcfg')\n",
    "sent = \"I am happy\".split()\n",
    "trees = grammar20.parse(sent)\n",
    "for tree in trees:\n",
    "    print tree"
   ]
  },
  {
   "cell_type": "code",
   "execution_count": 6,
   "metadata": {
    "collapsed": false
   },
   "outputs": [
    {
     "name": "stdout",
     "output_type": "stream",
     "text": [
      "(S[]\n",
      "  (NP[AGR=[NUM='sg', PER=3]] (Pro[AGR=[NUM='sg', PER=3]] she))\n",
      "  (VP[AGR=[NUM='sg', PER=3], TENSE='pres']\n",
      "    (Cop[AGR=[NUM='sg', PER=3], TENSE='pres'] is)\n",
      "    (Adj[] happy)))\n"
     ]
    }
   ],
   "source": [
    "sent = \"she is happy\".split()\n",
    "trees = grammar20.parse(sent)\n",
    "for tree in trees:\n",
    "    print tree"
   ]
  },
  {
   "cell_type": "code",
   "execution_count": 9,
   "metadata": {
    "collapsed": true
   },
   "outputs": [],
   "source": [
    "sent = \"you is happy\".split()\n",
    "trees = grammar20.parse(sent)\n",
    "for tree in trees:\n",
    "    print tree"
   ]
  },
  {
   "cell_type": "code",
   "execution_count": 10,
   "metadata": {
    "collapsed": true
   },
   "outputs": [],
   "source": [
    "sent = \"they am happy\".split()\n",
    "trees = grammar20.parse(sent)\n",
    "for tree in trees:\n",
    "    print tree"
   ]
  },
  {
   "cell_type": "markdown",
   "metadata": {},
   "source": [
    "__Exercise 2__"
   ]
  },
  {
   "cell_type": "code",
   "execution_count": 12,
   "metadata": {
    "collapsed": false
   },
   "outputs": [
    {
     "name": "stdout",
     "output_type": "stream",
     "text": [
      "(S[]\n",
      "  (NP[NUM='sg'] (Det[] the) (N[NUM='sg', +count] boy))\n",
      "  (VP[NUM='sg', TENSE='pres'] (IV[NUM='sg', TENSE='pres'] sings)))\n"
     ]
    }
   ],
   "source": [
    "grammar = load_parser('file:chapter_9_ex2.fcfg')\n",
    "sent = \"the boy sings\".split()\n",
    "trees = grammar.parse(sent)\n",
    "for tree in trees:\n",
    "    print tree"
   ]
  },
  {
   "cell_type": "code",
   "execution_count": 13,
   "metadata": {
    "collapsed": true
   },
   "outputs": [],
   "source": [
    "sent = \"boy sings\".split()\n",
    "trees = grammar.parse(sent)\n",
    "for tree in trees:\n",
    "    print tree"
   ]
  },
  {
   "cell_type": "code",
   "execution_count": 15,
   "metadata": {
    "collapsed": false
   },
   "outputs": [
    {
     "name": "stdout",
     "output_type": "stream",
     "text": [
      "(S[]\n",
      "  (NP[NUM='pl'] (Det[] the) (N[NUM='pl', +count] boys))\n",
      "  (VP[NUM='pl', TENSE='pres'] (IV[NUM='pl', TENSE='pres'] sing)))\n"
     ]
    }
   ],
   "source": [
    "sent = \"the boys sing\".split()\n",
    "trees = grammar.parse(sent)\n",
    "for tree in trees:\n",
    "    print tree"
   ]
  },
  {
   "cell_type": "code",
   "execution_count": 16,
   "metadata": {
    "collapsed": false
   },
   "outputs": [
    {
     "name": "stdout",
     "output_type": "stream",
     "text": [
      "(S[]\n",
      "  (NP[NUM='pl'] (N[NUM='pl', +count] boys))\n",
      "  (VP[NUM='pl', TENSE='pres'] (IV[NUM='pl', TENSE='pres'] sing)))\n"
     ]
    }
   ],
   "source": [
    "sent = \"boys sing\".split()\n",
    "trees = grammar.parse(sent)\n",
    "for tree in trees:\n",
    "    print tree"
   ]
  },
  {
   "cell_type": "code",
   "execution_count": 17,
   "metadata": {
    "collapsed": false
   },
   "outputs": [
    {
     "name": "stdout",
     "output_type": "stream",
     "text": [
      "(S[]\n",
      "  (NP[NUM='sg'] (Det[] the) (N[NUM='sg', -count] water))\n",
      "  (VP[NUM='sg', TENSE='pres']\n",
      "    (Cop[NUM='sg', TENSE='pres'] is)\n",
      "    (Adj[] precious)))\n"
     ]
    }
   ],
   "source": [
    "sent = \"the water is precious\".split()\n",
    "trees = grammar.parse(sent)\n",
    "for tree in trees:\n",
    "    print tree"
   ]
  },
  {
   "cell_type": "code",
   "execution_count": 19,
   "metadata": {
    "collapsed": false
   },
   "outputs": [
    {
     "name": "stdout",
     "output_type": "stream",
     "text": [
      "(S[]\n",
      "  (NP[NUM='sg'] (N[NUM='sg', -count] water))\n",
      "  (VP[NUM='sg', TENSE='pres']\n",
      "    (Cop[NUM='sg', TENSE='pres'] is)\n",
      "    (Adj[] precious)))\n"
     ]
    }
   ],
   "source": [
    "sent = \"water is precious\".split()\n",
    "trees = grammar.parse(sent)\n",
    "for tree in trees:\n",
    "    print tree"
   ]
  },
  {
   "cell_type": "code",
   "execution_count": null,
   "metadata": {
    "collapsed": true
   },
   "outputs": [],
   "source": []
  }
 ],
 "metadata": {
  "kernelspec": {
   "display_name": "Python 2",
   "language": "python",
   "name": "python2"
  },
  "language_info": {
   "codemirror_mode": {
    "name": "ipython",
    "version": 2
   },
   "file_extension": ".py",
   "mimetype": "text/x-python",
   "name": "python",
   "nbconvert_exporter": "python",
   "pygments_lexer": "ipython2",
   "version": "2.7.12"
  }
 },
 "nbformat": 4,
 "nbformat_minor": 2
}
