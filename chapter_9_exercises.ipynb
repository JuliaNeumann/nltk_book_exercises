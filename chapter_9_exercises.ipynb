{
 "cells": [
  {
   "cell_type": "markdown",
   "metadata": {
    "deletable": true,
    "editable": true
   },
   "source": [
    "__Exercise 1__"
   ]
  },
  {
   "cell_type": "code",
   "execution_count": 1,
   "metadata": {
    "collapsed": false,
    "deletable": true,
    "editable": true
   },
   "outputs": [
    {
     "name": "stdout",
     "output_type": "stream",
     "text": [
      "(S[]\n",
      "  (NP_SG_1[] (Pro_SG_1[] I))\n",
      "  (VP_SG_1[] (Cop_SG_1[] am) (Adj[] happy)))\n"
     ]
    }
   ],
   "source": [
    "import nltk, re, pprint\n",
    "from nltk import load_parser\n",
    "grammar8 = load_parser('file:chapter_9_ex1_a.fcfg')\n",
    "sent = \"I am happy\".split()\n",
    "trees = grammar8.parse(sent)\n",
    "for tree in trees:\n",
    "    print tree"
   ]
  },
  {
   "cell_type": "code",
   "execution_count": 2,
   "metadata": {
    "collapsed": false,
    "deletable": true,
    "editable": true
   },
   "outputs": [
    {
     "name": "stdout",
     "output_type": "stream",
     "text": [
      "(S[]\n",
      "  (NP_SG_3[] (Pro_SG_3[] she))\n",
      "  (VP_SG_3[] (Cop_SG_3[] is) (Adj[] happy)))\n"
     ]
    }
   ],
   "source": [
    "sent = \"she is happy\".split()\n",
    "trees = grammar8.parse(sent)\n",
    "for tree in trees:\n",
    "    print tree"
   ]
  },
  {
   "cell_type": "code",
   "execution_count": 3,
   "metadata": {
    "collapsed": true,
    "deletable": true,
    "editable": true
   },
   "outputs": [],
   "source": [
    "sent = \"you is happy\".split()\n",
    "trees = grammar8.parse(sent)\n",
    "for tree in trees:\n",
    "    print tree"
   ]
  },
  {
   "cell_type": "code",
   "execution_count": 4,
   "metadata": {
    "collapsed": false,
    "deletable": true,
    "editable": true
   },
   "outputs": [],
   "source": [
    "sent = \"they am happy\".split()\n",
    "trees = grammar8.parse(sent)\n",
    "for tree in trees:\n",
    "    print tree"
   ]
  },
  {
   "cell_type": "code",
   "execution_count": 5,
   "metadata": {
    "collapsed": false,
    "deletable": true,
    "editable": true
   },
   "outputs": [
    {
     "name": "stdout",
     "output_type": "stream",
     "text": [
      "(S[]\n",
      "  (NP[AGR=[NUM='sg', PER=1]] (Pro[AGR=[NUM='sg', PER=1]] I))\n",
      "  (VP[AGR=[NUM='sg', PER=1], TENSE='pres']\n",
      "    (Cop[AGR=[NUM='sg', PER=1], TENSE='pres'] am)\n",
      "    (Adj[] happy)))\n"
     ]
    }
   ],
   "source": [
    "grammar20 = load_parser('file:chapter_9_ex1_b.fcfg')\n",
    "sent = \"I am happy\".split()\n",
    "trees = grammar20.parse(sent)\n",
    "for tree in trees:\n",
    "    print tree"
   ]
  },
  {
   "cell_type": "code",
   "execution_count": 6,
   "metadata": {
    "collapsed": false,
    "deletable": true,
    "editable": true
   },
   "outputs": [
    {
     "name": "stdout",
     "output_type": "stream",
     "text": [
      "(S[]\n",
      "  (NP[AGR=[NUM='sg', PER=3]] (Pro[AGR=[NUM='sg', PER=3]] she))\n",
      "  (VP[AGR=[NUM='sg', PER=3], TENSE='pres']\n",
      "    (Cop[AGR=[NUM='sg', PER=3], TENSE='pres'] is)\n",
      "    (Adj[] happy)))\n"
     ]
    }
   ],
   "source": [
    "sent = \"she is happy\".split()\n",
    "trees = grammar20.parse(sent)\n",
    "for tree in trees:\n",
    "    print tree"
   ]
  },
  {
   "cell_type": "code",
   "execution_count": 7,
   "metadata": {
    "collapsed": true,
    "deletable": true,
    "editable": true
   },
   "outputs": [],
   "source": [
    "sent = \"you is happy\".split()\n",
    "trees = grammar20.parse(sent)\n",
    "for tree in trees:\n",
    "    print tree"
   ]
  },
  {
   "cell_type": "code",
   "execution_count": 8,
   "metadata": {
    "collapsed": true,
    "deletable": true,
    "editable": true
   },
   "outputs": [],
   "source": [
    "sent = \"they am happy\".split()\n",
    "trees = grammar20.parse(sent)\n",
    "for tree in trees:\n",
    "    print tree"
   ]
  },
  {
   "cell_type": "markdown",
   "metadata": {
    "deletable": true,
    "editable": true
   },
   "source": [
    "__Exercise 2__"
   ]
  },
  {
   "cell_type": "code",
   "execution_count": 9,
   "metadata": {
    "collapsed": false,
    "deletable": true,
    "editable": true
   },
   "outputs": [
    {
     "name": "stdout",
     "output_type": "stream",
     "text": [
      "(S[]\n",
      "  (NP[NUM='sg'] (Det[] the) (N[NUM='sg', +count] boy))\n",
      "  (VP[NUM='sg', TENSE='pres'] (IV[NUM='sg', TENSE='pres'] sings)))\n"
     ]
    }
   ],
   "source": [
    "grammar = load_parser('file:chapter_9_ex2.fcfg')\n",
    "sent = \"the boy sings\".split()\n",
    "trees = grammar.parse(sent)\n",
    "for tree in trees:\n",
    "    print tree"
   ]
  },
  {
   "cell_type": "code",
   "execution_count": 10,
   "metadata": {
    "collapsed": true,
    "deletable": true,
    "editable": true
   },
   "outputs": [],
   "source": [
    "sent = \"boy sings\".split()\n",
    "trees = grammar.parse(sent)\n",
    "for tree in trees:\n",
    "    print tree"
   ]
  },
  {
   "cell_type": "code",
   "execution_count": 11,
   "metadata": {
    "collapsed": false,
    "deletable": true,
    "editable": true
   },
   "outputs": [
    {
     "name": "stdout",
     "output_type": "stream",
     "text": [
      "(S[]\n",
      "  (NP[NUM='pl'] (Det[] the) (N[NUM='pl', +count] boys))\n",
      "  (VP[NUM='pl', TENSE='pres'] (IV[NUM='pl', TENSE='pres'] sing)))\n"
     ]
    }
   ],
   "source": [
    "sent = \"the boys sing\".split()\n",
    "trees = grammar.parse(sent)\n",
    "for tree in trees:\n",
    "    print tree"
   ]
  },
  {
   "cell_type": "code",
   "execution_count": 12,
   "metadata": {
    "collapsed": false,
    "deletable": true,
    "editable": true
   },
   "outputs": [
    {
     "name": "stdout",
     "output_type": "stream",
     "text": [
      "(S[]\n",
      "  (NP[NUM='pl'] (N[NUM='pl', +count] boys))\n",
      "  (VP[NUM='pl', TENSE='pres'] (IV[NUM='pl', TENSE='pres'] sing)))\n"
     ]
    }
   ],
   "source": [
    "sent = \"boys sing\".split()\n",
    "trees = grammar.parse(sent)\n",
    "for tree in trees:\n",
    "    print tree"
   ]
  },
  {
   "cell_type": "code",
   "execution_count": 13,
   "metadata": {
    "collapsed": false,
    "deletable": true,
    "editable": true
   },
   "outputs": [
    {
     "name": "stdout",
     "output_type": "stream",
     "text": [
      "(S[]\n",
      "  (NP[NUM='sg'] (Det[] the) (N[NUM='sg', -count] water))\n",
      "  (VP[NUM='sg', TENSE='pres']\n",
      "    (Cop[NUM='sg', TENSE='pres'] is)\n",
      "    (Adj[] precious)))\n"
     ]
    }
   ],
   "source": [
    "sent = \"the water is precious\".split()\n",
    "trees = grammar.parse(sent)\n",
    "for tree in trees:\n",
    "    print tree"
   ]
  },
  {
   "cell_type": "code",
   "execution_count": 14,
   "metadata": {
    "collapsed": false,
    "deletable": true,
    "editable": true
   },
   "outputs": [
    {
     "name": "stdout",
     "output_type": "stream",
     "text": [
      "(S[]\n",
      "  (NP[NUM='sg'] (N[NUM='sg', -count] water))\n",
      "  (VP[NUM='sg', TENSE='pres']\n",
      "    (Cop[NUM='sg', TENSE='pres'] is)\n",
      "    (Adj[] precious)))\n"
     ]
    }
   ],
   "source": [
    "sent = \"water is precious\".split()\n",
    "trees = grammar.parse(sent)\n",
    "for tree in trees:\n",
    "    print tree"
   ]
  },
  {
   "cell_type": "markdown",
   "metadata": {
    "collapsed": true,
    "deletable": true,
    "editable": true
   },
   "source": [
    "__Exercise 3__"
   ]
  },
  {
   "cell_type": "code",
   "execution_count": 15,
   "metadata": {
    "collapsed": false,
    "deletable": true,
    "editable": true
   },
   "outputs": [
    {
     "name": "stdout",
     "output_type": "stream",
     "text": [
      "False\n",
      "True\n"
     ]
    }
   ],
   "source": [
    "def subsumes(f1, f2):\n",
    "    if len(f2.keys()) > len(f1.keys()):\n",
    "        return False;\n",
    "    for key in f2.keys():\n",
    "        if (key not in f1.keys()) or (f1[key] != f2[key]):\n",
    "            return False;\n",
    "    return True\n",
    "\n",
    "fs1 = nltk.FeatStruct(A='a')\n",
    "fs2 = nltk.FeatStruct(A='a', B='b')\n",
    "print subsumes(fs1, fs2)\n",
    "print subsumes(fs2, fs1)"
   ]
  },
  {
   "cell_type": "markdown",
   "metadata": {
    "collapsed": true,
    "deletable": true,
    "editable": true
   },
   "source": [
    "__Exercise 4__"
   ]
  },
  {
   "cell_type": "code",
   "execution_count": 16,
   "metadata": {
    "collapsed": true,
    "deletable": true,
    "editable": true
   },
   "outputs": [],
   "source": [
    "# don't know what is expected here :/ see chapter_9_ex4.fcfg"
   ]
  },
  {
   "cell_type": "markdown",
   "metadata": {
    "deletable": true,
    "editable": true
   },
   "source": [
    "__Exercise 5__"
   ]
  },
  {
   "cell_type": "code",
   "execution_count": 17,
   "metadata": {
    "collapsed": false,
    "deletable": true,
    "editable": true
   },
   "outputs": [
    {
     "name": "stdout",
     "output_type": "stream",
     "text": [
      "(S[]\n",
      "  (NP[AGR=[NUM='sg', PER=1], CASE='nom']\n",
      "    (PRO[AGR=[NUM='sg', PER=1], CASE='nom'] ich))\n",
      "  (VP[AGR=[NUM='sg', PER=1]]\n",
      "    (V[AGR=[NUM='sg', PER=1], OBJCASE='acc', SUBCAT='trans'] sehe)\n",
      "    (NP[AGR=[GND='masc', NUM='pl', PER=3], CASE='acc']\n",
      "      (Det[AGR=[NUM='pl', PER=3], CASE='acc'] die)\n",
      "      (N[AGR=[GND='masc', NUM='pl', PER=3], CASE='acc'] Hunde))))\n"
     ]
    }
   ],
   "source": [
    "grammar = load_parser('file:chapter_9_ex5.fcfg')\n",
    "sent = \"ich sehe die Hunde\".split()\n",
    "trees = grammar.parse(sent)\n",
    "for tree in trees:\n",
    "    print tree"
   ]
  },
  {
   "cell_type": "code",
   "execution_count": 18,
   "metadata": {
    "collapsed": false,
    "deletable": true,
    "editable": true
   },
   "outputs": [
    {
     "name": "stdout",
     "output_type": "stream",
     "text": [
      "(S[]\n",
      "  (NP[AGR=[NUM='pl', PER=1], CASE='nom']\n",
      "    (PRO[AGR=[NUM='pl', PER=1], CASE='nom'] wir))\n",
      "  (VP[AGR=[NUM='pl', PER=1]]\n",
      "    (V[AGR=[NUM='pl', PER=1], SUBCAT='intrans'] kommen)))\n"
     ]
    }
   ],
   "source": [
    "sent = \"wir kommen\".split()\n",
    "trees = grammar.parse(sent)\n",
    "for tree in trees:\n",
    "    print tree"
   ]
  },
  {
   "cell_type": "code",
   "execution_count": 19,
   "metadata": {
    "collapsed": true,
    "deletable": true,
    "editable": true
   },
   "outputs": [],
   "source": [
    "sent = \"ich komme die Hunde\".split()\n",
    "trees = grammar.parse(sent)\n",
    "for tree in trees:\n",
    "    print tree"
   ]
  },
  {
   "cell_type": "markdown",
   "metadata": {
    "deletable": true,
    "editable": true
   },
   "source": [
    "__Exercise 6__"
   ]
  },
  {
   "cell_type": "code",
   "execution_count": 20,
   "metadata": {
    "collapsed": false,
    "deletable": true,
    "editable": true
   },
   "outputs": [
    {
     "name": "stdout",
     "output_type": "stream",
     "text": [
      "(NP[]\n",
      "  (INDEF[AGR=[GND='masc', NUM='sg']] un)\n",
      "  (NP[AGR=[GND='masc', NUM='sg']]\n",
      "    (N[AGR=[GND='masc', NUM='sg']] cuadro)\n",
      "    (ADJ[AGR=[GND='masc', NUM='sg']] hermoso)))\n"
     ]
    }
   ],
   "source": [
    "grammar = load_parser('file:chapter_9_ex6.fcfg')\n",
    "\n",
    "def parse(sent, grammer):\n",
    "    sent = sent.split()\n",
    "    trees = grammar.parse(sent)\n",
    "    for tree in trees:\n",
    "        print tree\n",
    "\n",
    "parse(\"un cuadro hermoso\", grammar)"
   ]
  },
  {
   "cell_type": "code",
   "execution_count": 21,
   "metadata": {
    "collapsed": false,
    "deletable": true,
    "editable": true
   },
   "outputs": [
    {
     "name": "stdout",
     "output_type": "stream",
     "text": [
      "(NP[]\n",
      "  (INDEF[AGR=[GND='masc', NUM='pl']] unos)\n",
      "  (NP[AGR=[GND='masc', NUM='pl']]\n",
      "    (N[AGR=[GND='masc', NUM='pl']] cuadros)\n",
      "    (ADJ[AGR=[GND='masc', NUM='pl']] hermosos)))\n"
     ]
    }
   ],
   "source": [
    "parse(\"unos cuadros hermosos\", grammar)"
   ]
  },
  {
   "cell_type": "code",
   "execution_count": 23,
   "metadata": {
    "collapsed": false
   },
   "outputs": [
    {
     "name": "stdout",
     "output_type": "stream",
     "text": [
      "(NP[]\n",
      "  (INDEF[AGR=[GND='fem', NUM='sg']] una)\n",
      "  (NP[AGR=[GND='fem', NUM='sg']]\n",
      "    (N[AGR=[GND='fem', NUM='sg']] cortina)\n",
      "    (ADJ[AGR=[GND='fem', NUM='sg']] hermosa)))\n"
     ]
    }
   ],
   "source": [
    "parse(\"una cortina hermosa\", grammar)"
   ]
  },
  {
   "cell_type": "code",
   "execution_count": 24,
   "metadata": {
    "collapsed": false
   },
   "outputs": [
    {
     "name": "stdout",
     "output_type": "stream",
     "text": [
      "(NP[]\n",
      "  (INDEF[AGR=[GND='fem', NUM='pl']] unas)\n",
      "  (NP[AGR=[GND='fem', NUM='pl']]\n",
      "    (N[AGR=[GND='fem', NUM='pl']] cortinas)\n",
      "    (ADJ[AGR=[GND='fem', NUM='pl']] hermosas)))\n"
     ]
    }
   ],
   "source": [
    "parse(\"unas cortinas hermosas\", grammar)"
   ]
  },
  {
   "cell_type": "code",
   "execution_count": 25,
   "metadata": {
    "collapsed": true
   },
   "outputs": [],
   "source": [
    "parse(\"un cuadro hermosas\", grammar)"
   ]
  },
  {
   "cell_type": "code",
   "execution_count": 27,
   "metadata": {
    "collapsed": true
   },
   "outputs": [],
   "source": [
    "parse(\"unos cortinas hermosas\", grammar)"
   ]
  },
  {
   "cell_type": "code",
   "execution_count": null,
   "metadata": {
    "collapsed": true
   },
   "outputs": [],
   "source": []
  }
 ],
 "metadata": {
  "kernelspec": {
   "display_name": "Python 2",
   "language": "python",
   "name": "python2"
  },
  "language_info": {
   "codemirror_mode": {
    "name": "ipython",
    "version": 2
   },
   "file_extension": ".py",
   "mimetype": "text/x-python",
   "name": "python",
   "nbconvert_exporter": "python",
   "pygments_lexer": "ipython2",
   "version": "2.7.12"
  }
 },
 "nbformat": 4,
 "nbformat_minor": 2
}
